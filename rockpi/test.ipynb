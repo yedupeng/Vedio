{
 "cells": [
  {
   "cell_type": "code",
   "execution_count": 5,
   "metadata": {},
   "outputs": [
    {
     "name": "stdout",
     "output_type": "stream",
     "text": [
      "12\n",
      "<class 'str'>\n"
     ]
    }
   ],
   "source": []
  },
  {
   "cell_type": "code",
   "execution_count": 11,
   "metadata": {},
   "outputs": [
    {
     "data": {
      "text/plain": [
       "b'123 s dsf4'"
      ]
     },
     "execution_count": 11,
     "metadata": {},
     "output_type": "execute_result"
    }
   ],
   "source": []
  },
  {
   "cell_type": "code",
   "execution_count": 12,
   "metadata": {},
   "outputs": [],
   "source": [
    "import multiprocessing\n",
    "from loguru import logger"
   ]
  },
  {
   "cell_type": "code",
   "execution_count": 14,
   "metadata": {},
   "outputs": [],
   "source": [
    "def fly(pipline):\n",
    "    pip = pipline\n",
    "    pip.send([12, 12, 32])\n",
    "    logger.info('send')"
   ]
  },
  {
   "cell_type": "code",
   "execution_count": 16,
   "metadata": {},
   "outputs": [],
   "source": [
    "def rockpi(pipeline):\n",
    "    pip = pipeline\n",
    "    date = pip.recv()\n",
    "    logger.info(\"recv:{date}\")"
   ]
  },
  {
   "cell_type": "code",
   "execution_count": 20,
   "metadata": {},
   "outputs": [],
   "source": [
    "pipe =multiprocessing.Pipe()\n",
    "fly_p = multiprocessing.Process(target=fly, args=(pipe[0], ))\n",
    "rockpi_p = multiprocessing.Process(target=rockpi, args=((pipe[1], )))\n",
    "\n",
    "fly_p.start()\n",
    "rockpi_p.start()\n",
    "\n",
    "fly_p.join()\n",
    "rockpi_p.join()\n"
   ]
  },
  {
   "cell_type": "code",
   "execution_count": null,
   "metadata": {},
   "outputs": [],
   "source": []
  }
 ],
 "metadata": {
  "kernelspec": {
   "display_name": "Python 3.8.8 ('base')",
   "language": "python",
   "name": "python3"
  },
  "language_info": {
   "codemirror_mode": {
    "name": "ipython",
    "version": 3
   },
   "file_extension": ".py",
   "mimetype": "text/x-python",
   "name": "python",
   "nbconvert_exporter": "python",
   "pygments_lexer": "ipython3",
   "version": "3.8.8"
  },
  "orig_nbformat": 4,
  "vscode": {
   "interpreter": {
    "hash": "9bce563f4c250286cf200fffc7c93cebffc4293288e1d11b5248bf02adddc1aa"
   }
  }
 },
 "nbformat": 4,
 "nbformat_minor": 2
}
